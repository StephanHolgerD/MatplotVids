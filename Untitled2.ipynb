{
 "cells": [
  {
   "cell_type": "code",
   "execution_count": 1,
   "id": "96ab59c3",
   "metadata": {},
   "outputs": [],
   "source": [
    "import pandas as pd\n",
    "import matplotlib.pyplot as plt\n",
    "import math\n",
    "import numpy as np\n",
    "from tqdm import tqdm\n",
    "from multiprocessing import pool\n",
    "import ffmpeg\n",
    "import os\n",
    "import os\n",
    "import json\n",
    "from data.input import ReadData\n",
    "from data.processing import FigureCreator\n",
    "from plots.circle import PlaceCircles, PlotCircles\n",
    "from multiprocessing import Pool\n",
    "from time import time\n",
    "from matplotlib.patches import Rectangle\n",
    "from bokeh.palettes import Category20_5\n",
    "from random import randint\n",
    "import matplotlib.image as image\n",
    "from matplotlib.offsetbox import ( OffsetImage,AnchoredOffsetbox)\n",
    "from collections import Counter\n",
    "import gc"
   ]
  },
  {
   "cell_type": "code",
   "execution_count": 2,
   "id": "4c16e7b3",
   "metadata": {},
   "outputs": [],
   "source": [
    "df = pd.read_csv('../ClinVarCharts/ClinVar_2023-03.tsv',sep='\\t')\n",
    "df['submissiondate'] = pd.to_datetime(df['submit date'])    \n",
    "df.set_index('submissiondate',inplace=True)\n",
    "#df_leipzig=df[df['submitter']=='Institute of Human Genetics, University of Leipzig Medical Center']\n"
   ]
  },
  {
   "cell_type": "code",
   "execution_count": 3,
   "id": "76bdbadf",
   "metadata": {},
   "outputs": [],
   "source": [
    "df = df.dropna(subset=['evaluation'])"
   ]
  },
  {
   "cell_type": "code",
   "execution_count": 4,
   "id": "8f4330a9",
   "metadata": {},
   "outputs": [],
   "source": [
    "ev = [x for x in set(df['evaluation']) if 'patho' in x.lower()]\n",
    "df = df[df['evaluation'].isin(ev)]"
   ]
  },
  {
   "cell_type": "code",
   "execution_count": 5,
   "id": "d6b2f9f0",
   "metadata": {},
   "outputs": [],
   "source": [
    "xx= Counter(df['gene'])\n",
    "\n",
    "xx = dict(sorted(xx.items(), key=lambda x:x[1],reverse=True))\n",
    "\n",
    "genes = list(xx.keys())[:400]"
   ]
  },
  {
   "cell_type": "code",
   "execution_count": 6,
   "id": "0702da4a",
   "metadata": {},
   "outputs": [],
   "source": [
    "df = df[df['gene'].isin(genes)]\n",
    "df = df[['gene']]"
   ]
  },
  {
   "cell_type": "code",
   "execution_count": 7,
   "id": "df3cb487",
   "metadata": {},
   "outputs": [],
   "source": [
    "x = FigureCreator.FigureScheduler(df,CatColumn='gene',ResolutionFactor=.01,MinAppearance=200,GroupingFreq='1M')\n"
   ]
  },
  {
   "cell_type": "code",
   "execution_count": null,
   "id": "5ed04642",
   "metadata": {},
   "outputs": [],
   "source": [
    "x = FigureCreator.FigureScheduler(df_leipzig,CatColumn='gene',ResolutionFactor=1)\n"
   ]
  },
  {
   "cell_type": "code",
   "execution_count": 8,
   "id": "4c38472b",
   "metadata": {},
   "outputs": [],
   "source": [
    "im = image.imread('image10.png')"
   ]
  },
  {
   "cell_type": "code",
   "execution_count": 9,
   "id": "2521a22a",
   "metadata": {},
   "outputs": [],
   "source": [
    "def CreateBarPlot(d,p,ax,ColorDict,lim=30,limdown = -1.5,fontsize=8,heigth=.8):\n",
    "\n",
    "    for n,(key,values) in enumerate(d.items()):\n",
    "        if n>lim:\n",
    "            continue\n",
    "        y = p[key]\n",
    "        \n",
    "        if n<lim:\n",
    "            ax.add_patch(Rectangle((0, y), d[key], heigth,color = ColorDict[key]))\n",
    "        \n",
    "        nText = math.ceil(d[key])\n",
    "        if y>=limdown:\n",
    "            ax.text(d[key],y+(heigth/2),f'{key}',ha='right',va='center',fontsize=fontsize,fontweight='bold')\n",
    "        \n",
    "        \n",
    "        "
   ]
  },
  {
   "cell_type": "code",
   "execution_count": null,
   "id": "37609bbb",
   "metadata": {},
   "outputs": [],
   "source": [
    "ColorDict = {}\n"
   ]
  },
  {
   "cell_type": "code",
   "execution_count": null,
   "id": "09fbc343",
   "metadata": {},
   "outputs": [],
   "source": [
    "for _ in genes:\n",
    "    ColorDict[_]= PlotCircles.randomColor()\n",
    "\n",
    "with open('colors.json','w') as j:\n",
    "    json.dump(ColorDict,j)"
   ]
  },
  {
   "cell_type": "code",
   "execution_count": 10,
   "id": "c740ae44",
   "metadata": {},
   "outputs": [],
   "source": [
    "with open('colors.json') as json_file:\n",
    "    ColorDict = json.load(json_file)"
   ]
  },
  {
   "cell_type": "code",
   "execution_count": 11,
   "id": "8fb9819c",
   "metadata": {},
   "outputs": [
    {
     "name": "stderr",
     "output_type": "stream",
     "text": [
      "100%|███████████████████████████████████████████████████████████████████████████████████████████████████████████████████████████████████████████████████████████████████████████████████████████████████| 14653/14653 [36:34<00:00,  6.68it/s]\n"
     ]
    }
   ],
   "source": [
    "CurrentPositions = {}\n",
    "NumberOfBars = 25\n",
    "StepSize = .2\n",
    "figsize = (10,8)\n",
    "stillMoving = 0\n",
    "outf = 'movingbars_allClin'\n",
    "tit = 'pathogenic variant submissions ClinVar'\n",
    "for (frameN,frame),Ti in tqdm(zip(x.FramePlotDict.items(),x.TimeArray),total=len(x.FramePlotDict)):\n",
    "    frame = {k:v for k,v in frame.items() if v>0}\n",
    "    frame = dict(sorted(frame.items(), key=lambda x:x[1],reverse=True))\n",
    "    maxV = max(frame.values())+5\n",
    "    \n",
    "    stillMoving = 0\n",
    "    \n",
    "    for n,entry in enumerate(frame.keys()):\n",
    "        if n < NumberOfBars+5:\n",
    "            wantedPos = float(NumberOfBars - n)\n",
    "        else:\n",
    "            wantedPos = -2\n",
    "        if entry not in ColorDict:\n",
    "            ColorDict[entry]= PlotCircles.randomColor()\n",
    "        if entry not in CurrentPositions:\n",
    "            CurrentPositions[entry] = round(float(-2),2)\n",
    "        \n",
    "        CurrentPos = CurrentPositions[entry]\n",
    "        if CurrentPos > wantedPos:\n",
    "            CurrentPositions[entry] = round(CurrentPos-StepSize,2)\n",
    "            stillMoving = 1\n",
    "        elif CurrentPos < wantedPos:\n",
    "            CurrentPositions[entry] = round(CurrentPos+StepSize,2)\n",
    "            stillMoving = 1\n",
    "        \n",
    "    cc=len(str(frameN))\n",
    "    cc=(5-cc)*'0'+str(frameN)\n",
    "    if frameN<0:\n",
    "        continue\n",
    "    if os.path.exists(f'{outf}//mvBars_{cc}.jpg'):\n",
    "        continue\n",
    "    fig,ax = plt.subplots(figsize=figsize)\n",
    "\n",
    "    CreateBarPlot(frame,CurrentPositions,ax,ColorDict)\n",
    "    ax.set(ylim=(-1,NumberOfBars+1),xlim=(0,maxV),title=f'{tit}-{Ti.year}-{Ti.month}',xlabel='submissions per gene')\n",
    "    ax.set_yticks([],[])\n",
    "\n",
    "    imagebox = OffsetImage(im, zoom=.4, alpha=0.2)\n",
    "    imagebox.image.axes = ax\n",
    "    ao = AnchoredOffsetbox(4, pad=0.01, borderpad=0, child=imagebox)\n",
    "    ao.patch.set_alpha(0)\n",
    "    ax.add_artist(ao)\n",
    "    #plt.tight_layout(rect=(.05,0,1,1))\n",
    "    plt.subplots_adjust(left=0.05, right=0.99, top=0.95, bottom=0.05)\n",
    "    plt.savefig(f'{outf}//mvBars_{cc}.jpg',facecolor='lavenderblush',dpi=150)\n",
    "    plt.clf()\n",
    "    plt.close(\"all\")\n",
    "    gc.collect()\n",
    "\n",
    "    \n",
    "    \n",
    "while stillMoving == 1:\n",
    "    frameN = frameN + 1\n",
    "    frame = {k:v for k,v in frame.items() if v>0}\n",
    "    frame = dict(sorted(frame.items(), key=lambda x:x[1],reverse=True))\n",
    "    maxV = max(frame.values())+5\n",
    "    \n",
    "    stillMoving = 0\n",
    "    \n",
    "    for n,entry in enumerate(frame.keys()):\n",
    "        if n < NumberOfBars+5:\n",
    "            wantedPos = float(NumberOfBars - n)\n",
    "        else:\n",
    "            wantedPos = -2\n",
    "        if entry not in ColorDict:\n",
    "            ColorDict[entry]= PlotCircles.randomColor()\n",
    "        if entry not in CurrentPositions:\n",
    "            CurrentPositions[entry] = round(float(-2),2)\n",
    "        \n",
    "        CurrentPos = CurrentPositions[entry]\n",
    "        if CurrentPos > wantedPos:\n",
    "            CurrentPositions[entry] = round(CurrentPos-StepSize,2)\n",
    "            stillMoving = 1\n",
    "        elif CurrentPos < wantedPos:\n",
    "            CurrentPositions[entry] = round(CurrentPos+StepSize,2)\n",
    "            stillMoving = 1\n",
    "        \n",
    "    \n",
    "    fig,ax = plt.subplots(figsize=figsize)\n",
    "\n",
    "    CreateBarPlot(frame,CurrentPositions,ax,ColorDict)\n",
    "    ax.set(ylim=(-1,NumberOfBars+1),xlim=(0,maxV),title=f'{tit}-{Ti.year}-{Ti.month}',xlabel='submissions per gene')\n",
    "    ax.set_yticks([],[])\n",
    "    \n",
    "    cc=len(str(frameN))\n",
    "    cc=(5-cc)*'0'+str(frameN)\n",
    "    \n",
    "    imagebox = OffsetImage(im, zoom=.4, alpha=0.2)\n",
    "    imagebox.image.axes = ax\n",
    "    ao = AnchoredOffsetbox(4, pad=0.01, borderpad=0, child=imagebox)\n",
    "    ao.patch.set_alpha(0)\n",
    "    ax.add_artist(ao)\n",
    "    plt.subplots_adjust(left=0.05, right=0.99, top=0.95, bottom=0.05)\n",
    "\n",
    "    plt.savefig(f'{outf}//mvBars_{cc}.jpg',facecolor='lavenderblush',dpi=150)\n",
    "    plt.close()\n",
    "    plt.close()\n",
    "\n",
    "    \n",
    "for _ in range(96):\n",
    "    frameN = frameN + 1\n",
    "    \n",
    "    fig,ax = plt.subplots(figsize=figsize)\n",
    "\n",
    "    CreateBarPlot(frame,CurrentPositions,ax,ColorDict)\n",
    "\n",
    "    ax.set(ylim=(-1,NumberOfBars+1),xlim=(0,maxV),title=f'{tit}-{Ti.year}-{Ti.month}',xlabel='submissions per gene')\n",
    "    ax.set_yticks([],[])\n",
    "    cc=len(str(frameN))\n",
    "    cc=(5-cc)*'0'+str(frameN)\n",
    "    imagebox = OffsetImage(im, zoom=.4, alpha=0.2)\n",
    "    imagebox.image.axes = ax\n",
    "    ao = AnchoredOffsetbox(4, pad=0.01, borderpad=0, child=imagebox)\n",
    "    ao.patch.set_alpha(0)\n",
    "    ax.add_artist(ao)\n",
    "    plt.subplots_adjust(left=0.05, right=0.99, top=0.95, bottom=0.05)\n",
    "\n",
    "    plt.savefig(f'{outf}//mvBars_{cc}.jpg',facecolor='lavenderblush',dpi=150)\n",
    "    plt.close()\n",
    "    plt.close()\n",
    "    "
   ]
  },
  {
   "cell_type": "code",
   "execution_count": null,
   "id": "2eaca5b3",
   "metadata": {},
   "outputs": [],
   "source": [
    "stillMoving"
   ]
  },
  {
   "cell_type": "code",
   "execution_count": null,
   "id": "14c5e85a",
   "metadata": {},
   "outputs": [],
   "source": [
    "steps = 0.05\n",
    "for n,x in tqdm(enumerate(range(500))):\n",
    "    cc=len(str(n))\n",
    "    cc=(5-cc)*'0'+str(n)\n",
    "    y=n*steps\n",
    "    fig,ax = plt.subplots()\n",
    "    ax.add_patch(Rectangle((1, n*steps), 6, 2))\n",
    "    ax.set(ylim=(0,50),xlim=(0,50))\n",
    "    plt.savefig(f'movingbars//mvBars_{cc}.jpg',facecolor='lavenderblush',dpi=150)\n",
    "    plt.close()"
   ]
  },
  {
   "cell_type": "code",
   "execution_count": 15,
   "id": "d68feb83",
   "metadata": {},
   "outputs": [
    {
     "name": "stderr",
     "output_type": "stream",
     "text": [
      "ffmpeg version 5.1 Copyright (c) 2000-2022 the FFmpeg developers\n",
      "  built with gcc 10.4.0 (conda-forge gcc 10.4.0-16)\n",
      "  configuration: --prefix=/home/conda/feedstock_root/build_artifacts/ffmpeg_1660333770726/_h_env_placehold_placehold_placehold_placehold_placehold_placehold_placehold_placehold_placehold_placehold_placehold_placehold_placehold_placehold_placehold_placehold_placehold_placehold_plac --cc=/home/conda/feedstock_root/build_artifacts/ffmpeg_1660333770726/_build_env/bin/x86_64-conda-linux-gnu-cc --cxx=/home/conda/feedstock_root/build_artifacts/ffmpeg_1660333770726/_build_env/bin/x86_64-conda-linux-gnu-c++ --nm=/home/conda/feedstock_root/build_artifacts/ffmpeg_1660333770726/_build_env/bin/x86_64-conda-linux-gnu-nm --ar=/home/conda/feedstock_root/build_artifacts/ffmpeg_1660333770726/_build_env/bin/x86_64-conda-linux-gnu-ar --disable-doc --disable-openssl --enable-demuxer=dash --enable-hardcoded-tables --enable-libfreetype --enable-libfontconfig --enable-libopenh264 --enable-gnutls --enable-libmp3lame --enable-libvpx --enable-pthreads --enable-vaapi --enable-gpl --enable-libx264 --enable-libx265 --enable-libaom --enable-libsvtav1 --enable-libxml2 --enable-pic --enable-shared --disable-static --enable-version3 --enable-zlib --pkg-config=/home/conda/feedstock_root/build_artifacts/ffmpeg_1660333770726/_build_env/bin/pkg-config\n",
      "  libavutil      57. 28.100 / 57. 28.100\n",
      "  libavcodec     59. 37.100 / 59. 37.100\n",
      "  libavformat    59. 27.100 / 59. 27.100\n",
      "  libavdevice    59.  7.100 / 59.  7.100\n",
      "  libavfilter     8. 44.100 /  8. 44.100\n",
      "  libswscale      6.  7.100 /  6.  7.100\n",
      "  libswresample   4.  7.100 /  4.  7.100\n",
      "  libpostproc    56.  6.100 / 56.  6.100\n",
      "Input #0, image2, from 'movingbars_allClin///*.jpg':\n",
      "  Duration: 00:02:11.69, start: 0.000000, bitrate: N/A\n",
      "  Stream #0:0: Video: mjpeg (Baseline), yuvj420p(pc, bt470bg/unknown/unknown), 1500x1200 [SAR 150:150 DAR 5:4], 112 fps, 112 tbr, 112 tbn\n",
      "Stream mapping:\n",
      "  Stream #0:0 -> #0:0 (mjpeg (native) -> h264 (libx264))\n",
      "Press [q] to stop, [?] for help\n",
      "[libx264 @ 0x5568a4bf8e40] using SAR=1/1\n",
      "[libx264 @ 0x5568a4bf8e40] using cpu capabilities: MMX2 SSE2Fast SSSE3 SSE4.2 AVX FMA3 BMI2 AVX2\n",
      "[libx264 @ 0x5568a4bf8e40] profile High, level 5.1, 4:2:0, 8-bit\n",
      "[libx264 @ 0x5568a4bf8e40] 264 - core 164 r3095 baee400 - H.264/MPEG-4 AVC codec - Copyleft 2003-2022 - http://www.videolan.org/x264.html - options: cabac=1 ref=3 deblock=1:0:0 analyse=0x3:0x113 me=hex subme=7 psy=1 psy_rd=1.00:0.00 mixed_ref=1 me_range=16 chroma_me=1 trellis=1 8x8dct=1 cqm=0 deadzone=21,11 fast_pskip=1 chroma_qp_offset=-2 threads=6 lookahead_threads=1 sliced_threads=0 nr=0 decimate=1 interlaced=0 bluray_compat=0 constrained_intra=0 bframes=3 b_pyramid=2 b_adapt=1 b_bias=0 direct=1 weightb=1 open_gop=0 weightp=2 keyint=250 keyint_min=25 scenecut=40 intra_refresh=0 rc_lookahead=40 rc=crf mbtree=1 crf=23.0 qcomp=0.60 qpmin=0 qpmax=69 qpstep=4 ip_ratio=1.40 aq=1:1.00\n",
      "Output #0, mp4, to 'movingbarsAllClin.mp4':\n",
      "  Metadata:\n",
      "    encoder         : Lavf59.27.100\n",
      "  Stream #0:0: Video: h264 (avc1 / 0x31637661), yuvj420p(pc, bt470bg/unknown/unknown, progressive), 1500x1200 [SAR 150:150 DAR 5:4], q=2-31, 112 fps, 14336 tbn\n",
      "    Metadata:\n",
      "      encoder         : Lavc59.37.100 libx264\n",
      "    Side data:\n",
      "      cpb: bitrate max/min/avg: 0/0/0 buffer size: 0 vbv_delay: N/A\n",
      "[mjpeg @ 0x5568a4bef300] overread 6 6144kB time=00:00:37.10 bitrate=1356.4kbits/s speed=0.491x     \n",
      "[mjpeg @ 0x5568a4bef300] EOI missing, emulating\n",
      "frame=14749 fps= 62 q=-1.0 Lsize=   14218kB time=00:02:11.66 bitrate= 884.6kbits/s speed=0.556x    \n",
      "video:14049kB audio:0kB subtitle:0kB other streams:0kB global headers:0kB muxing overhead: 1.203491%\n",
      "[libx264 @ 0x5568a4bf8e40] frame I:59    Avg QP:19.83  size: 48178\n",
      "[libx264 @ 0x5568a4bf8e40] frame P:4498  Avg QP:23.46  size:  1809\n",
      "[libx264 @ 0x5568a4bf8e40] frame B:10192 Avg QP:19.96  size:   334\n",
      "[libx264 @ 0x5568a4bf8e40] consecutive B-frames:  4.8%  6.8%  6.9% 81.5%\n",
      "[libx264 @ 0x5568a4bf8e40] mb I  I16..4: 29.4% 64.0%  6.6%\n",
      "[libx264 @ 0x5568a4bf8e40] mb P  I16..4:  0.5%  0.8%  0.1%  P16..4:  2.0%  0.7%  0.2%  0.0%  0.0%    skip:95.7%\n",
      "[libx264 @ 0x5568a4bf8e40] mb B  I16..4:  0.3%  0.0%  0.0%  B16..8:  3.7%  0.1%  0.0%  direct: 0.0%  skip:95.8%  L0:57.5% L1:42.4% BI: 0.2%\n",
      "[libx264 @ 0x5568a4bf8e40] 8x8 transform intra:49.2% inter:83.2%\n",
      "[libx264 @ 0x5568a4bf8e40] coded y,uvDC,uvAC intra: 6.8% 8.3% 6.1% inter: 0.2% 0.2% 0.1%\n",
      "[libx264 @ 0x5568a4bf8e40] i16 v,h,dc,p: 59% 39%  2%  0%\n",
      "[libx264 @ 0x5568a4bf8e40] i8 v,h,dc,ddl,ddr,vr,hd,vl,hu: 43%  5% 50%  1%  0%  0%  0%  0%  0%\n",
      "[libx264 @ 0x5568a4bf8e40] i4 v,h,dc,ddl,ddr,vr,hd,vl,hu: 28% 39% 19%  2%  2%  3%  2%  2%  2%\n",
      "[libx264 @ 0x5568a4bf8e40] i8c dc,h,v,p: 70% 25%  5%  0%\n",
      "[libx264 @ 0x5568a4bf8e40] Weighted P-Frames: Y:0.0% UV:0.0%\n",
      "[libx264 @ 0x5568a4bf8e40] ref P L0: 75.2%  2.6% 15.3%  6.9%\n",
      "[libx264 @ 0x5568a4bf8e40] ref B L0: 67.2% 28.9%  3.9%\n",
      "[libx264 @ 0x5568a4bf8e40] ref B L1: 94.2%  5.8%\n",
      "[libx264 @ 0x5568a4bf8e40] kb/s:873.90\n"
     ]
    },
    {
     "data": {
      "text/plain": [
       "(None, None)"
      ]
     },
     "execution_count": 15,
     "metadata": {},
     "output_type": "execute_result"
    }
   ],
   "source": [
    "(\n",
    "    ffmpeg\n",
    "    .input('movingbars_allClin///*.jpg', pattern_type='glob', framerate=112)\n",
    "    .output('movingbarsAllClin.mp4')\n",
    "    .run()\n",
    ")"
   ]
  },
  {
   "cell_type": "code",
   "execution_count": null,
   "id": "9fdecbf1",
   "metadata": {},
   "outputs": [],
   "source": []
  }
 ],
 "metadata": {
  "kernelspec": {
   "display_name": "Python 3 (ipykernel)",
   "language": "python",
   "name": "python3"
  },
  "language_info": {
   "codemirror_mode": {
    "name": "ipython",
    "version": 3
   },
   "file_extension": ".py",
   "mimetype": "text/x-python",
   "name": "python",
   "nbconvert_exporter": "python",
   "pygments_lexer": "ipython3",
   "version": "3.10.4"
  }
 },
 "nbformat": 4,
 "nbformat_minor": 5
}
