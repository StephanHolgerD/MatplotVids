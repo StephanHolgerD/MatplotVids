{
 "cells": [
  {
   "cell_type": "code",
   "execution_count": 19,
   "id": "0cdfcae3",
   "metadata": {},
   "outputs": [],
   "source": [
    "import pandas as pd\n",
    "import matplotlib.pyplot as plt\n",
    "import math\n",
    "import numpy as np\n",
    "from tqdm import tqdm\n",
    "from multiprocessing import pool"
   ]
  },
  {
   "cell_type": "code",
   "execution_count": 2,
   "id": "ed409e02",
   "metadata": {},
   "outputs": [],
   "source": [
    "from data.input import ReadData\n",
    "from data.processing import FigureCreator"
   ]
  },
  {
   "cell_type": "code",
   "execution_count": 3,
   "id": "4136b2f6",
   "metadata": {},
   "outputs": [],
   "source": [
    "from plots.circle import PlaceCircles"
   ]
  },
  {
   "cell_type": "code",
   "execution_count": 4,
   "id": "87e2c82b",
   "metadata": {},
   "outputs": [],
   "source": [
    "df = pd.read_csv('../ClinVarCharts/ClinVarJan22_2023.tsv',sep='\\t')\n",
    "df['submissiondate'] = pd.to_datetime(df['submit date'])    \n",
    "df.set_index('submissiondate',inplace=True)\n",
    "df_leipzig=df[df['submitter']=='Institute of Human Genetics, University of Leipzig Medical Center']\n",
    "df_Dresden = df[df['submitter']=='Institute for Clinical Genetics, University Hospital TU Dresden, University Hospital TU Dresden']"
   ]
  },
  {
   "cell_type": "code",
   "execution_count": 9,
   "id": "c433b6d7",
   "metadata": {},
   "outputs": [],
   "source": [
    "figScetch = FigureCreator.FigureScheduler(df_leipzig,CatColumn='gene',ResolutionFactor=1)"
   ]
  },
  {
   "cell_type": "code",
   "execution_count": 10,
   "id": "2c44eb9f",
   "metadata": {},
   "outputs": [],
   "source": [
    "CircCoords = ReadData.ReadDataFile(df_leipzig,CatColumn='gene')"
   ]
  },
  {
   "cell_type": "code",
   "execution_count": 11,
   "id": "93a8975b",
   "metadata": {},
   "outputs": [],
   "source": [
    "CircCoords.CreateCounterDict()"
   ]
  },
  {
   "cell_type": "code",
   "execution_count": 12,
   "id": "172d00d7",
   "metadata": {},
   "outputs": [
    {
     "name": "stderr",
     "output_type": "stream",
     "text": [
      "100%|███████████████████████████████████████████████████████████████████████████████████████████████████████████████████████████████████████████████████████████████████████████████████████████████████████| 199/199 [00:51<00:00,  3.87it/s]\n"
     ]
    }
   ],
   "source": [
    "CircCoordsPlot= PlaceCircles.PaceCircles(CircCoords)"
   ]
  },
  {
   "cell_type": "code",
   "execution_count": 15,
   "id": "95daedfe",
   "metadata": {},
   "outputs": [],
   "source": [
    "def CircPlot(SizeDict,CoordDict,title,colDict,ax,maxW):\n",
    "    for k,v in SizeDict.items():\n",
    "        radius=math.sqrt(v/np.pi)\n",
    "        x = CoordDict[k][0]\n",
    "        y = CoordDict[k][1]\n",
    "        circle1 = plt.Circle((x, y), radius,color=colDict[k],zorder=0)\n",
    "        ax.add_patch(circle1)\n",
    "        ax.text(CoordDict[k][0], CoordDict[k][1],k,ha='center',va='center',fontsize=((2.75*radius)),zorder=1)\n",
    "    ax.set(xlim=((-1*maxW),maxW),ylim=((-1*maxW),maxW))\n",
    "    ax.axis('off')\n",
    "    #plt.subplots_adjust(top=1,bottom=0,left=0,right=1)\n",
    "    #ax.set_title(title, y=1.0, pad=-14)\n",
    "    ax.set(title=title)\n",
    "    #plt.savefig(name,facecolor='lavenderblush',dpi=150)\n",
    "    #plt.close()\n",
    "    #return ax"
   ]
  },
  {
   "cell_type": "code",
   "execution_count": 16,
   "id": "0dd7f1e7",
   "metadata": {},
   "outputs": [],
   "source": [
    "def randCol():\n",
    " #   return 'red'\n",
    "    return (np.random.randint(100,255)/255,np.random.randint(100,255)/255,np.random.randint(100,255)/255)"
   ]
  },
  {
   "cell_type": "code",
   "execution_count": 17,
   "id": "af218d61",
   "metadata": {},
   "outputs": [],
   "source": [
    "ColorDict = {k[0]:randCol() for k in CircCoordsPlot.coords}\n",
    "\n",
    "xx = [x[2][0] for x in CircCoordsPlot.coords]\n",
    "yy = [x[2][1] for x in CircCoordsPlot.coords]\n",
    "\n",
    "\n",
    "ymin = abs(min(yy))\n",
    "ymax = abs(max(yy))\n",
    "\n",
    "xmin = abs(min(xx))\n",
    "xmax = abs(max(xx))\n",
    "\n",
    "lim = max([ymin,ymax,xmin,xmax])\n",
    "lim = 1.2*lim\n",
    "\n",
    "coords = {k[0]:k[2] for k in CircCoordsPlot.coords}"
   ]
  },
  {
   "cell_type": "code",
   "execution_count": null,
   "id": "776f366a",
   "metadata": {},
   "outputs": [
    {
     "name": "stderr",
     "output_type": "stream",
     "text": [
      "  9%|█████████████████▌                                                                                                                                                                                    | 258/2906 [02:47<36:05,  1.22it/s]"
     ]
    }
   ],
   "source": [
    "c= 1\n",
    "for (frame,content),date  in tqdm(zip(figScetch.FramePlotDict.items(),figScetch.TimeArray),total=len(figScetch.TimeArray)):\n",
    "    cc=len(str(c))\n",
    "    cc=(5-cc)*'0'+str(c)\n",
    "    content = {k:v for k,v in content.items() if v>0}\n",
    "    fig,ax = plt.subplots(figsize=(8,8))\n",
    "    CircPlot(content,coords,date,ColorDict,ax,lim)\n",
    "    plt.savefig(f'animation/circVis_{cc}.jpg',facecolor='lavenderblush',dpi=150)\n",
    "    plt.close()\n",
    "    c = c+1\n"
   ]
  },
  {
   "cell_type": "code",
   "execution_count": null,
   "id": "614ae993",
   "metadata": {},
   "outputs": [],
   "source": [
    "tdf=pd.DataFrame()\n",
    "c=1\n",
    "plotD={}\n",
    "colD={}\n",
    "#coords=CircPlotCoords(df_leipzig['gene'],5,600)\n",
    "TextD={}\n",
    "catD = {}\n",
    "for x,y in df_leipzig.groupby(pd.Grouper(level='submissiondate', freq='2W')):\n",
    "    if y.empty:\n",
    "        continue\n",
    "    tdf=pd.concat([tdf,y])\n",
    "    count=Counter(y['gene'])\n",
    "    count = {k:v for (k,v) in count.items() if k in list(coords)}\n",
    "    count=dict(sorted(count.items(), key=lambda item: item[1],reverse=True))\n",
    "    if len(count)==0:\n",
    "        continue\n",
    "    for n in range(list(count.values())[0]):\n",
    "        fig = plt.figure(figsize=(10,8))\n",
    "        gs = fig.add_gridspec(5,5)\n",
    "        ax1 = fig.add_subplot(gs[:5, :4])\n",
    "        ax2 = fig.add_subplot(gs[2:5, 4])\n",
    "        \n",
    "        f\n",
    "        \n",
    "        \n",
    "        \n",
    "        \n",
    "\n",
    "        for k,v in count.items():\n",
    "            if k not in colD:\n",
    "                colD[k]=randCol()\n",
    "            if v>=n+1:\n",
    "          \n",
    "                    \n",
    "                if k in plotD:\n",
    "                    plotD[k]=plotD[k]+1\n",
    "                else:\n",
    "                    plotD[k]=1\n",
    "                if plotD[k]<5: \n",
    "                    TextD[k]=3\n",
    "                else:\n",
    "                    TextD[k]=2\n",
    "        plotD=dict(sorted(plotD.items(), key=lambda item: item[1],reverse=True))\n",
    "        for k,v in TextD.items():\n",
    "            if v>0.75:\n",
    "                TextD[k]=v-0.1\n",
    "        keys=list(plotD.keys())\n",
    "        values=list(plotD.values())\n",
    "        colL=[]\n",
    "        #for _ in keys:\n",
    "        #    colL.append(colD[_])\n",
    "        #if not (n % 2) == 0:\n",
    "         #   BarPlot(keys,values,name=f'animation/{str(c)}.png',title=f'{x.month_name()}-{x.year}',colL=colL)\n",
    "        cc=len(str(c))\n",
    "        cc=(3-cc)*'0'+str(c)\n",
    "\n",
    "        ax1 = CircPlot(plotD,coords,lim,\n",
    "                 name=f'circanimation/circVis_{str(cc)}.jpg',\n",
    "                 title=f'Leipzig ClinVar submissions - {x.month_name()}-{x.year}',\n",
    "                 colD=colD,\n",
    "                 TextD=TextD,\n",
    "                ax=ax1)\n",
    "        plt.savefig(f'circanimation_barplot/{c}.png',facecolor='lavenderblush',dpi=150)\n",
    "        plt.close()\n",
    "        c=c+1\n",
    "        if c>5:\n",
    "            break\n",
    "for _ in range(50):\n",
    "    for k in TextD:\n",
    "        if TextD[k]>0.75:\n",
    "            TextD[k]=TextD[k]-0.1\n",
    "    cc=len(str(c))\n",
    "    cc=(3-cc)*'0'+str(c)\n",
    "    CircPlot(plotD,coords,lim,\n",
    "                 name=f'circanimation/circVis_{str(cc)}.jpg',\n",
    "                 title=f'Leipzig ClinVar submissions - {x.month_name()}-{x.year}',\n",
    "                 colD=colD,\n",
    "                 TextD=TextD)\n",
    "    c=c+1\n",
    "    \n",
    "    \n"
   ]
  },
  {
   "cell_type": "code",
   "execution_count": null,
   "id": "6979eafc",
   "metadata": {},
   "outputs": [],
   "source": [
    "l = xx.coords"
   ]
  },
  {
   "cell_type": "code",
   "execution_count": null,
   "id": "eadd6599",
   "metadata": {},
   "outputs": [],
   "source": [
    "fig,ax = plt.subplots(figsize=(8,8))\n",
    "\n",
    "\n",
    "xx = [x[2][0] for x in l]\n",
    "yy = [x[2][1] for x in l]\n",
    "\n",
    "\n",
    "ymin = abs(min(yy))\n",
    "ymax = abs(max(yy))\n",
    "\n",
    "xmin = abs(min(xx))\n",
    "xmax = abs(max(xx))\n",
    "\n",
    "\n",
    "lim = max([ymin,ymax,xmin,xmax])\n",
    "lim = 1.2*lim\n",
    "\n",
    "for gene in l:\n",
    "    \n",
    "    name = gene[0]\n",
    "    radius = gene[1]\n",
    "    x=gene[2][0]\n",
    "    y=gene[2][1]\n",
    "    \n",
    "    \n",
    "    circle1 = plt.Circle((x, y), radius,edgecolor='black')\n",
    "    ax.add_patch(circle1)\n",
    "    #ax.text(x, y,name,ha='center',va='center')\n",
    "ax.set(ylim = (-1*lim,lim),xlim=(-1*lim,lim))"
   ]
  },
  {
   "cell_type": "code",
   "execution_count": null,
   "id": "7851eac5",
   "metadata": {},
   "outputs": [],
   "source": [
    "list(range(0,360,10))"
   ]
  },
  {
   "cell_type": "code",
   "execution_count": null,
   "id": "81ceab99",
   "metadata": {},
   "outputs": [],
   "source": []
  }
 ],
 "metadata": {
  "kernelspec": {
   "display_name": "Python 3 (ipykernel)",
   "language": "python",
   "name": "python3"
  },
  "language_info": {
   "codemirror_mode": {
    "name": "ipython",
    "version": 3
   },
   "file_extension": ".py",
   "mimetype": "text/x-python",
   "name": "python",
   "nbconvert_exporter": "python",
   "pygments_lexer": "ipython3",
   "version": "3.9.1"
  }
 },
 "nbformat": 4,
 "nbformat_minor": 5
}
